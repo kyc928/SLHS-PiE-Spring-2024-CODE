{
 "cells": [
  {
   "cell_type": "markdown",
   "metadata": {},
   "source": [
    "1.Delivery\n",
    "\n",
    "It's lunchtime! Since you are just a nobody here, your warm-hearted neighbors would be pleased if you delivered them their food. \n",
    "\n",
    "According to your observation, Ordinary Prisoners would be satisfied with 1 serving of the meal, Pugilist Prisoners would prefer 2 servings per meal, Herculean Prisoners would like to have 3 servings, Recidivists need 4 servings, and Infamous Recidivists won't be satisfied until their 5th serving. A list indicating the types of all your neighbors in your cell will be given. Don't forget yourself! Given that you are an Ordinary Prisoner; how many servings of meals do you have to take to please all your neighbors?\n",
    "\n",
    "The function must return an integer equal to the total number of \"meals\" required according to the strings from the input list. \n",
    "\n"
   ]
  },
  {
   "cell_type": "code",
   "execution_count": null,
   "metadata": {},
   "outputs": [],
   "source": [
    "def delivery(lst):\n",
    "    hist = {\"Ordinary Prisoner\": 1, \"Pugilist Prisoner\": 2,  \"Herculean Prisoner\": 3, \"Recidivist\": 4, \"Infamous Recidivist\": 5}\n",
    "    meals = 1\n",
    "    for p in lst:\n",
    "        if p in hist:\n",
    "            meals += hist[p]\n",
    "    return meals\n"
   ]
  },
  {
   "cell_type": "code",
   "execution_count": null,
   "metadata": {},
   "outputs": [],
   "source": [
    "delivery([\"Infamous Recidivist\"])\n",
    "#6\n",
    "\n",
    "delivery([\"Pugilist Prisoner\", \"Herculean Prisoner\", \"Recidivist\", \"Ordinary Prisoner\", \"Recidivist\"])\n",
    "#15\n",
    "\n",
    "delivery([\"Ordinary Prisoner\", \"Pugilist Prisoner\"])\n",
    "#4\n"
   ]
  },
  {
   "cell_type": "markdown",
   "metadata": {},
   "source": [
    "2.Prisoners List\n",
    "\n",
    "The guard is running a rough spot check! He wants to know what types of prisoners are in each cell! You will be given a list consisting of each prisoner's type, probably containing duplicates. Please hand in a clean list where each type of prisoner appears exactly once in whichever order you like.\n",
    "\n",
    "The function must return a list that contains the same elements as the original list only without duplicate elements.\n",
    "\n",
    "Hint: for sorting, you may want to use sort() for reference.\n"
   ]
  },
  {
   "cell_type": "code",
   "execution_count": null,
   "metadata": {},
   "outputs": [],
   "source": [
    "def prisoners_list(lst):\n",
    "    lst.sort() #not necessary\n",
    "    return list(dict.fromkeys(lst))\n",
    " "
   ]
  },
  {
   "cell_type": "code",
   "execution_count": null,
   "metadata": {},
   "outputs": [],
   "source": [
    "prisoners_list([\"Recidivist\", \"Infamous Recidivist\", \"Recidivist\"])\n",
    "    # [\"Infamous Recidivist\", \"Recidivist\"]\n",
    "\n",
    "prisoners_list([\"Seasoned Prisoner\", \"Seasoned Prisoner\", \"Pugilist Prisoner\", \"Strongman Prisoner\", \"Elite Pugilist Prisoner\", \"Seasoned Prisoner\"])\n",
    "    # [\"Elite Pugilist Prisoner\", \"Pugilist Prisoner\", \"Seasoned Prisoner\", \"Strongman Prisoner\"]\n"
   ]
  },
  {
   "cell_type": "markdown",
   "metadata": {},
   "source": [
    "3.Contraband Detection\n",
    "\n",
    "You have arrived at the Alcatraz Penitentiary, known for its cruel punishments. At the entrance, you are faced with one of the most precise detection systems where all the illegal substances attained by the prisoners are detected. \n",
    "\n",
    "In order to pass through the gate, the inmates must not possess the following items: \"knife\", \"drugs\", \"weapons\", \"cellphone\", and \"alcohol\". You are in charge of saving your life by hacking into the system and understanding how contraband detection operates. \n",
    "\n",
    "Based on your understanding, build a function that takes in a list of illegal substances and returns a tuple with a boolean and a list of illegal items found in the inmate's belongings. If an illegal item is found, the function should return False; otherwise True.\n",
    "\n",
    "The function must return a tuple that contains a boolean based on whether the input list contains an illegal item, and also a list consisting of the illegal items found. If no illegal items are found, then the second element should simply be an empty list.\n"
   ]
  },
  {
   "cell_type": "code",
   "execution_count": null,
   "metadata": {},
   "outputs": [],
   "source": [
    "def check_for_contraband(belongings):\n",
    "    contraband = tuple([\"knife\", \"drugs\", \"weapons\", \"cellphone\", \"alcohol\"])\n",
    "    check = list()\n",
    "    final = [True, check]\n",
    "    for x in belongings:\n",
    "        if x in contraband:\n",
    "            final[0] = False\n",
    "            check.append(x)\n",
    "    return tuple(final)"
   ]
  },
  {
   "cell_type": "code",
   "execution_count": null,
   "metadata": {},
   "outputs": [],
   "source": [
    "check_for_contraband([\"book\", \"notebook\", \"pen\"])\n",
    "# (True, [])\n",
    "\n",
    "check_for_contraband([\"book\", \"notebook\", \"pen\", \"drugs\"])\n",
    "# (False, [\"drugs\"])\n",
    "\n",
    "check_for_contraband([\"cloth\", \"cellphone\", \"drugs\", \"shackles\"])\n",
    "# (False, [\"cellphone\", \"drugs\"])\n"
   ]
  },
  {
   "cell_type": "markdown",
   "metadata": {},
   "source": [
    "4.Hop Hop\n",
    "After being suffocated behind the bars of the jail, you decide to do anything to be free, even if it means risking your life and climbing a staircase with spiky electric wires. You can take either 1 or 2 steps at a time (a mix of both is possible) to carefully reach the top without being electrified. The total number of steps you have to take is N steps. Write a procedure that takes in N and returns the number of ways that you can climb the stairs. \n",
    "\n",
    "For example, if N = 3, then you can climb the stairs in the following ways:\n",
    "\n",
    "Take 1 step, 1 step, 1 step\n",
    "Take 1 step, then 2 steps\n",
    "Take 2 steps, then 1 step\n",
    "So, the result is 3 for N= 3.\n",
    "\n",
    "The function must return an integer that is the sum of all the different ways that the input can be represented by using a combination of N steps.\n"
   ]
  },
  {
   "cell_type": "code",
   "execution_count": null,
   "metadata": {},
   "outputs": [],
   "source": [
    "def hop_hop(n):\n",
    "    a = 1\n",
    "    b = 1\n",
    "    for i in range(n-1):\n",
    "        temp = a\n",
    "        a = a+b\n",
    "        b = temp\n",
    "    return a"
   ]
  },
  {
   "cell_type": "code",
   "execution_count": null,
   "metadata": {},
   "outputs": [],
   "source": [
    "hop_hop(2)\n",
    "    # 2\n",
    "\n",
    "hop_hop(4)    \n",
    "    # 5\n",
    "\n",
    "hop_hop(6)\n",
    "    # 13"
   ]
  },
  {
   "cell_type": "markdown",
   "metadata": {},
   "source": [
    "5.Survival Points\n",
    "Your life is being monitored each and every day in prison. The prison guard allocates points to each convict based on their obedience, respect for authority, and constructive actions. You, as a software expert of PiE, are willing to help the prison guard find a better way to collect the data. A prisoner gets points for following rules and guidelines; however, points are deducted on a daily basis for each misconduct. After a certain number of days, the points obtained by each prisoner are added to examine their performance. \n",
    "\n",
    "Given two dictionaries, create a function that adds both and combines each key-value pair that shares the same key name. For keys only found in one dictionary, add that key-value pair to the resultant dictionary. Make sure to return the resultant dictionary.\n"
   ]
  },
  {
   "cell_type": "code",
   "execution_count": null,
   "metadata": {},
   "outputs": [],
   "source": [
    "def survival_points(dict1, dict2):\n",
    "    final = dict()\n",
    "    for key in dict1:\n",
    "        final[key] = dict1[key] + dict2.get(key, 0)\n",
    "    for key in dict2:\n",
    "        if key not in final:\n",
    "            final[key] = dict2[key]\n",
    "    \n",
    "    return final"
   ]
  },
  {
   "cell_type": "code",
   "execution_count": null,
   "metadata": {},
   "outputs": [],
   "source": [
    "d1 = { \"Alex\": 10, \"Ben\": 15}\n",
    "d2 = { \"Jade\": 5, \"Ben\": 20, \"Alex\": -10}\n",
    "survival_points(d1, d2)\n",
    "# {'Alex': 0, 'Jade': 5, 'Ben': 35}\n",
    "\n",
    "d1 = {\"Alex\": 12, \"Ben\": 0, \"Jade\": 5}\n",
    "d2 = {\"Alex\": -16, \"Ben\": 15}\n",
    "survival_points(d1, d2)\n",
    "# {'Alex': -4, 'Ben': 15, 'Jade': 5}"
   ]
  },
  {
   "cell_type": "markdown",
   "metadata": {},
   "source": [
    "6.Visitation Scheduling\n",
    "In Alcatraz, perfection is the key. Whether management of the inmates' visitors or controlling the workflow, everything must flow in order. To uphold this notion, you are in charge of building a program that displays all time slots, occupied or available, to visit the inmates. The time slots are available for 1 hour from 9:00 AM to 2:00 PM. Create an add_visitor function that takes in a tuple and a string to display the visitation slot in the following way; (start_time, end_time): visitor. Look at the doctest below for a more detailed example. The function display_schedule and the visitation slots are provided for you.\n",
    "\n",
    "The function must return a string of only the hours from 9:00 am to 2:00 pm and display who occupies that current time slot unless it is available and therefore should instead display Available.\n"
   ]
  },
  {
   "cell_type": "code",
   "execution_count": null,
   "metadata": {},
   "outputs": [],
   "source": [
    "visitation_slots = [\n",
    "    (\"09:00\", \"10:00\"),\n",
    "    (\"10:00\", \"11:00\"),\n",
    "    (\"11:00\", \"12:00\"),\n",
    "    (\"13:00\", \"14:00\"),\n",
    "    (\"14:00\", \"15:00\")]\n",
    "\n",
    "visitors = {slot: None for slot in visitation_slots}\n",
    "\n",
    "\n",
    "def display_schedule():\n",
    "    for slot, visitor in visitors.items():\n",
    "        print(f\"{slot}: {visitor or 'Available'}\")"
   ]
  },
  {
   "cell_type": "code",
   "execution_count": null,
   "metadata": {},
   "outputs": [],
   "source": [
    "def add_visitor(slot, visitor_name):\n",
    "    if visitors[slot] == None:\n",
    "        visitors[slot] = visitor_name\n",
    "    display_schedule()"
   ]
  },
  {
   "cell_type": "code",
   "execution_count": null,
   "metadata": {},
   "outputs": [],
   "source": [
    "add_visitor((\"09:00\", \"10:00\"), \"Alice\")\n",
    "# ('09:00', '10:00'): Alice\n",
    "# ('10:00', '11:00'): Available\n",
    "# ('11:00', '12:00'): Available\n",
    "# ('13:00', '14:00'): Available\n",
    "# ('14:00', '15:00'): Available\n",
    "\n",
    "add_visitor((\"09:00\", \"10:00\"), \"Alice\")\n",
    "add_visitor((\"10:00\", \"11:00\"), \"Bob\")\n",
    "add_visitor((\"10:00\", \"11:00\"), \"David\") #Should not be added\n",
    "# ('09:00', '10:00'): Alice\n",
    "# ('10:00', '11:00'): Bob\n",
    "# ('11:00', '12:00'): Available\n",
    "# ('13:00', '14:00'): Available\n",
    "# ('14:00', '15:00'): Available\n"
   ]
  },
  {
   "cell_type": "markdown",
   "metadata": {},
   "source": [
    "7.Social Cell\n",
    "In the high-security prison of Alcatraz, everyone is assigned a unique ID and is referred to by it to maintain anonymity and dehumanize the prisoners. However, the criminal minds of the inmates never cease to conspire. Even after numerous failures from the hop-hop staircase and contraband detection, prisoners form conspiratorial alliances to deceive the safeguards. Upon sensing a potential escape plan, guards suspect that two inmates are planning an escape together. But the Guards need proof! To prove they are secretly plotting together, we must first prove they know each other. Two prisoners know each other if they are in the same group or know at least 3 or more people who are friends with the other prisoner.\n",
    "\n",
    "Prisoners can recognize each other under two conditions:\n",
    "1. Both prisoners appear in the same list.\n",
    "2. The prisoners are in different lists but share three or more common acquaintances.\n",
    "\n",
    "For instance,  prisoners with ID 1 and ID 2 are acquainted in the following case: [1, 3, 4, 5] and [2, 3, 4, 5]. Here, both groups share IDs 3, 4 and 5; hence 1 and 2 know each other. We consider these two groups as connected. We may safely treat the two groups as one. \n",
    "\n",
    "In another scenario, if the lists are [0, 1, 2, 3], [4, 1, 2, 3], and [4, 0, 1, 5], the first two lists can be merged due to sharing three common IDs, and then the third list can also connect with the merged group through three common IDs. In this case, 3 and 5 know each other since they are both part of the big connected group. Help the guards uphold the prestige of the prison by exposing the lies concealed under layers of deception and mistrust! \n",
    "\n",
    "The function must return a boolean based on whether id1 and id2 are in the same list or if three or more items of the joint list of id 1 and id 2 are the same. \n"
   ]
  },
  {
   "cell_type": "code",
   "execution_count": null,
   "metadata": {},
   "outputs": [],
   "source": [
    "def acquaintance(id1, id2, *lst):\n",
    "    for l in lst:\n",
    "        if id1 in l and id2 in l:\n",
    "            return True\n",
    "        \n",
    "    common_1 = set()\n",
    "    common_2 = set()\n",
    "    for l in lst:\n",
    "        if id1 in l and len(l) > 3:\n",
    "            common_1.update(l)\n",
    "\n",
    "    for l in lst:\n",
    "        if id2 in l and len(l) > 3:\n",
    "            common_2.update(l)\n",
    "\n",
    "    common = common_1 & common_2\n",
    "\n",
    "    return False or len(common) >= 3\n",
    "    "
   ]
  },
  {
   "cell_type": "code",
   "execution_count": null,
   "metadata": {},
   "outputs": [],
   "source": [
    "print(acquaintance(0, 11, [3, 55, 269, 0, 11], [3]))\n",
    "    # True\n",
    "print(acquaintance(11, 1, [3, 55, 269, 0, 11], [3, 269, 0, 1, 74], [55, 2], [12, 34, 5]))\n",
    "    # True\n",
    "print(acquaintance(55, 1, [55, 2], [3, 55, 269, 0, 11], [3, 269, 0, 1, 74]))\n",
    "    # True\n",
    "print(acquaintance(2, 3, [0], [3, 55, 269, 0, 11], [3, 269, 0, 1, 74], [55, 2]))\n",
    "    # False"
   ]
  },
  {
   "cell_type": "markdown",
   "metadata": {},
   "source": [
    "8.SSSPOOKYYYY!!\n",
    "Life in the cells is so boring! You and your companions invented a text game to kill some time. All the players gather to decide a long text for that round; what everyone is going to do is each declare a list of text chunks, keeping the characters to be the exact order from the long text, where whoever has the shortest list but the longest text chunk wins that round. Well, then isn't everyone just going to throw the exact long text back?! Together, you added two limits to the returning chunks: \n",
    "\n",
    "The resulting chunks should contain at least 2 characters, and there should be no more than 3 consecutive characters in each chunk. For example, for the long text \"SSSPOOKYYYY!!\", you come up with the list [\"SSS\", \"POOKYY\", \"YY!!\"], but your roommate comes up with the list [\"SSSPOOKYYY\", \"Y!!\"] and wins this round, since \"SSSPOOKYYY\" is longer than \"POOKYY\"! We have provided a helper function called \"multiply_list\" which multiplies elements of the list together. It is up to you to choose to use it or not; depending on your own logic, it could be totally useless!\n"
   ]
  },
  {
   "cell_type": "code",
   "execution_count": null,
   "metadata": {},
   "outputs": [],
   "source": [
    "def multiply_list(lst: list) -> int:\n",
    "    product = 1\n",
    "    for i in lst:\n",
    "        product *= i\n",
    "    return product"
   ]
  },
  {
   "cell_type": "code",
   "execution_count": null,
   "metadata": {},
   "outputs": [],
   "source": [
    "def ssspookyyyy(str):\n",
    "    "
   ]
  },
  {
   "cell_type": "code",
   "execution_count": null,
   "metadata": {},
   "outputs": [],
   "source": [
    "print(sorted(ssspookyyyy(\"sssss\")))\n",
    "    # [\"ss\", \"sss\"]\n",
    "\n",
    "print(ssspookyyyy(\"ssssaaaassaa\") in [[\"ss\", \"ssa\", \"aaassaa\"], [\"sss\", \"sa\", \"aaassaa\"]])\n",
    "    # True\n",
    "\n",
    "print(ssspookyyyy(\"ssspooookkyyyy!!!!!\") in [[\"ssspo\", \"oookkyyy\", \"y!!!\", \"!!\"], [\"ssspo\", \"oookkyyy\", \"y!!\", \"!!!\"]] )        # Should not be [\"ssspo\", \"oookkyyy\", \"y!\", \"!!\", \"!!\"]\n",
    "    # True\n",
    "\n",
    "print(ssspookyyyy(\"                        \"))\n",
    "    # [“   “, “   “, “   “, “   “, “   “, “   “, “   “, “   “]\n"
   ]
  }
 ],
 "metadata": {
  "kernelspec": {
   "display_name": "Python 3",
   "language": "python",
   "name": "python3"
  },
  "language_info": {
   "codemirror_mode": {
    "name": "ipython",
    "version": 3
   },
   "file_extension": ".py",
   "mimetype": "text/x-python",
   "name": "python",
   "nbconvert_exporter": "python",
   "pygments_lexer": "ipython3",
   "version": "3.11.8"
  }
 },
 "nbformat": 4,
 "nbformat_minor": 2
}
